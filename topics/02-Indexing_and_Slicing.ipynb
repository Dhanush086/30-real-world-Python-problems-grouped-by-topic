{
  "nbformat": 4,
  "nbformat_minor": 0,
  "metadata": {
    "colab": {
      "provenance": []
    },
    "kernelspec": {
      "name": "python3",
      "display_name": "Python 3"
    },
    "language_info": {
      "name": "python"
    }
  },
  "cells": [
    {
      "cell_type": "markdown",
      "source": [
        "# 🔍 Topic 2: Indexing and Slicing in Python\n",
        "\n",
        "Indexing and slicing are core skills for working with sequences like strings, lists, and tuples.\n",
        "\n",
        "In this section, we learn how to:\n",
        "- Use positive and negative indexing\n",
        "- Slice parts of strings and lists using `[start:stop:step]`\n",
        "- Handle real-world examples like parsing patient records or extracting IDs from reports\n",
        "\n",
        "These techniques help us access and manipulate data efficiently in practical Python programs.\n"
      ],
      "metadata": {
        "id": "9beGlB4j7FhI"
      }
    },
    {
      "cell_type": "markdown",
      "source": [
        "##📊🍽️Nutrition Tracking:\n",
        "\n",
        "In this activity, we used a nutrition tracking scenario to understand and practice indexing and slicing in Python. A list of tuples represented the macronutrient intake (protein, carbs, fats) for each day of the week. We performed various operations like:\n",
        "\n",
        "Accessing data using positive indexing (e.g., Thursday's intake).\n",
        "\n",
        "Using negative slicing to extract weekend data.\n",
        "\n",
        "Extracting alternate days with step-based slicing.\n",
        "\n",
        "Reversing the list to simulate weekly reporting in reverse order.\n",
        "\n",
        "This example shows how indexing and slicing help us organize, extract, and analyze structured data in real-world contexts like health and nutrition."
      ],
      "metadata": {
        "id": "tEe0u9wK10Gq"
      }
    },
    {
      "cell_type": "code",
      "source": [
        "# Each tuple represents (protein, carbs, fats) in grams\n",
        "# Data is for 7 days (Mon to Sun)\n",
        "weekly_macros = [\n",
        "    (80, 200, 50),  # Monday\n",
        "    (90, 220, 60),  # Tuesday\n",
        "    (70, 180, 45),  # Wednesday\n",
        "    (85, 210, 55),  # Thursday\n",
        "    (95, 230, 65),  # Friday\n",
        "    (100, 250, 70), # Saturday\n",
        "    (75, 190, 48)   # Sunday\n",
        "]\n",
        "\n",
        "print(\"📅 Weekly Macronutrient Intake (Protein, Carbs, Fats):\")\n",
        "print(weekly_macros)\n"
      ],
      "metadata": {
        "colab": {
          "base_uri": "https://localhost:8080/"
        },
        "id": "jSvD8f_k14T4",
        "outputId": "0a0002b1-5911-47ba-d70a-c556dd3a9339"
      },
      "execution_count": 1,
      "outputs": [
        {
          "output_type": "stream",
          "name": "stdout",
          "text": [
            "📅 Weekly Macronutrient Intake (Protein, Carbs, Fats):\n",
            "[(80, 200, 50), (90, 220, 60), (70, 180, 45), (85, 210, 55), (95, 230, 65), (100, 250, 70), (75, 190, 48)]\n"
          ]
        }
      ]
    },
    {
      "cell_type": "markdown",
      "source": [
        "Indexing & Slicing"
      ],
      "metadata": {
        "id": "SNZ6xPFK2sSl"
      }
    },
    {
      "cell_type": "code",
      "execution_count": 2,
      "metadata": {
        "colab": {
          "base_uri": "https://localhost:8080/"
        },
        "id": "bEmc2aHe1PHz",
        "outputId": "83883232-708d-4711-d3a9-2473e583f467"
      },
      "outputs": [
        {
          "output_type": "stream",
          "name": "stdout",
          "text": [
            "Thursday's Intake: (85, 210, 55)\n"
          ]
        }
      ],
      "source": [
        "thursday_macros = weekly_macros[3]\n",
        "print(f\"Thursday's Intake: {thursday_macros}\")"
      ]
    },
    {
      "cell_type": "markdown",
      "source": [
        "##💓 Patient Vital Monitoring –\n",
        "Blood Pressure Tracker In a healthcare data system, daily blood pressure readings are tracked for each patient over the week. The data is stored in a list where each entry is a tuple like (systolic, diastolic).\n",
        "\n",
        "Using Python indexing and slicing, we will extract specific readings to:\n",
        "\n",
        "Monitor trends\n",
        "Check alternate day reports\n",
        "Reverse the records for reviewing latest-first\n",
        "Let's apply what we learned about list indexing and slicing!"
      ],
      "metadata": {
        "id": "CBvLBzr-2yd2"
      }
    },
    {
      "cell_type": "code",
      "source": [
        "# Import random to simulate blood pressure values\n",
        "import random\n",
        "\n",
        "# Generate daily readings for 7 days\n",
        "blood_pressure_readings = [(random.randint(110, 130), random.randint(70, 90)) for _ in range(7)]\n",
        "\n",
        "# Print simulated data\n",
        "print(f\"🩺 Daily Blood Pressure Readings: {blood_pressure_readings}\")\n"
      ],
      "metadata": {
        "colab": {
          "base_uri": "https://localhost:8080/"
        },
        "id": "T6FKKBVX23JX",
        "outputId": "5cc56d03-55bb-4694-97a0-fc6e79ed121e"
      },
      "execution_count": 3,
      "outputs": [
        {
          "output_type": "stream",
          "name": "stdout",
          "text": [
            "🩺 Daily Blood Pressure Readings: [(126, 82), (127, 83), (129, 75), (111, 71), (129, 80), (112, 76), (120, 85)]\n"
          ]
        }
      ]
    },
    {
      "cell_type": "code",
      "source": [
        "third_reading = blood_pressure_readings[2]\n",
        "print(f\"3️⃣ Third Reading (Index 2): {third_reading}\")"
      ],
      "metadata": {
        "colab": {
          "base_uri": "https://localhost:8080/"
        },
        "id": "A7l0WiXg29u_",
        "outputId": "4c995313-eeef-4ebd-fd7b-6b28b6d9db63"
      },
      "execution_count": 4,
      "outputs": [
        {
          "output_type": "stream",
          "name": "stdout",
          "text": [
            "3️⃣ Third Reading (Index 2): (129, 75)\n"
          ]
        }
      ]
    },
    {
      "cell_type": "code",
      "source": [
        "alternate_days = blood_pressure_readings[::2]\n",
        "print(f\"📆 Alternate Day Readings: {alternate_days}\")"
      ],
      "metadata": {
        "colab": {
          "base_uri": "https://localhost:8080/"
        },
        "id": "Qe8fmaZX3AQH",
        "outputId": "988283a7-878a-41a7-d24d-08346462cc89"
      },
      "execution_count": 5,
      "outputs": [
        {
          "output_type": "stream",
          "name": "stdout",
          "text": [
            "📆 Alternate Day Readings: [(126, 82), (129, 75), (129, 80), (120, 85)]\n"
          ]
        }
      ]
    }
  ]
}
