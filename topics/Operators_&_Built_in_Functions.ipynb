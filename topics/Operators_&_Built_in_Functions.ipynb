{
  "nbformat": 4,
  "nbformat_minor": 0,
  "metadata": {
    "colab": {
      "provenance": []
    },
    "kernelspec": {
      "name": "python3",
      "display_name": "Python 3"
    },
    "language_info": {
      "name": "python"
    }
  },
  "cells": [
    {
      "cell_type": "markdown",
      "source": [
        "##Operators in Data Types"
      ],
      "metadata": {
        "id": "X4f3g8djQXIR"
      }
    },
    {
      "cell_type": "markdown",
      "source": [
        "\n",
        "#🎉 Let's do some math!\n",
        "📐 First up, let's calculate the area of a square with sides that measure 5 cm. 🤔 How much space does this shape occupy?\n",
        "\n",
        "🔍 Next, let's find the volume of a cube with sides that measure 12 cm. 📏 How much room does this shape take up?\n",
        "\n",
        "🔢 Lastly, we'll find the quotient and remainder when we divide 10 by 4. 🧐 How many times does 4 fit into 10? What's left over?"
      ],
      "metadata": {
        "id": "aMCrHDPuQagy"
      }
    },
    {
      "cell_type": "code",
      "execution_count": 1,
      "metadata": {
        "colab": {
          "base_uri": "https://localhost:8080/"
        },
        "id": "XB1xDWvqOwav",
        "outputId": "9b864879-b2ba-4529-f38c-50225718a814"
      },
      "outputs": [
        {
          "output_type": "stream",
          "name": "stdout",
          "text": [
            "2\n",
            "2\n",
            "1728\n",
            "25\n"
          ]
        }
      ],
      "source": [
        "ar_square=5*5\n",
        "vol_cube=12**3\n",
        "quotient=10//4\n",
        "remainder=10%4\n",
        "\n",
        "print(remainder)\n",
        "print(quotient)\n",
        "print(vol_cube)\n",
        "print(ar_square)"
      ]
    },
    {
      "cell_type": "markdown",
      "source": [
        "#📚 Let's practice some comparison operators! Here's a problem for you to solve:\n",
        "🍎 The first basket contains 12 apples, and the second basket contains 8 apples. Use comparison operators to answer the following questions:\n",
        "\n",
        "Is the number of apples in the first basket greater than the number of apples in the second basket?\n",
        "\n",
        "Is the number of apples in the second basket less than or equal to the number of apples in the first basket?\n",
        "\n",
        "Is the number of apples in the first basket equal to the number of apples in the second basket?\n",
        "\n",
        "Is the number of apples in the second basket not equal to the number of apples in the first basket?\n",
        "\n",
        "Use comparison operators (i.e. >, >=, <, <=, ==, !=) in your code to answer each question. Good luck! 🍎🍏"
      ],
      "metadata": {
        "id": "aFVrkx72QoAp"
      }
    },
    {
      "cell_type": "code",
      "source": [
        "# Your code here\n",
        "basket1=12\n",
        "basket2=8\n",
        "print(basket1>basket2)\n",
        "print(basket2<=basket1)\n",
        "print(basket1==basket2)\n",
        "print(basket2!=basket1)"
      ],
      "metadata": {
        "colab": {
          "base_uri": "https://localhost:8080/"
        },
        "id": "Gm2pCgOzQqcA",
        "outputId": "88afb1ed-ff9a-4452-ac66-718911a51f35"
      },
      "execution_count": 2,
      "outputs": [
        {
          "output_type": "stream",
          "name": "stdout",
          "text": [
            "True\n",
            "True\n",
            "False\n",
            "True\n"
          ]
        }
      ]
    },
    {
      "cell_type": "markdown",
      "source": [
        "##in-Built Functions & Methods"
      ],
      "metadata": {
        "id": "ZrclyHEcQuHF"
      }
    },
    {
      "cell_type": "markdown",
      "source": [
        "🎥 Suppose you have a collection of your favorite movies 🍿🎞️ and you want to keep track of them using a Python list 📜. You start with an empty list [] and keep adding new movies 🆕 to it. You also want to be able to remove movies ❌ that you have watched or no longer wish to keep in your collection. Finally, you want to be able to count 🔢 how many movies you have in your collection and reverse the order of the list 🔄."
      ],
      "metadata": {
        "id": "RvOL5N7kQ0g8"
      }
    },
    {
      "cell_type": "code",
      "source": [
        "# Start with an empty list\n",
        "movie_collection = []\n",
        "\n",
        "# Add some movies to the collection using the append() method\n",
        "movie_collection.append(\"Inception\")\n",
        "movie_collection.append(\"The Matrix\")\n",
        "movie_collection.append(\"Interstellar\")\n",
        "movie_collection.append(\"The Dark Knight\")\n",
        "movie_collection.append(\"Parasite\")\n",
        "\n",
        "# Print the current collection of movies\n",
        "print(\"My Movie Collection:\", movie_collection)\n",
        "\n",
        "# Remove a movie from the collection using the pop() method\n",
        "# Code to remove index 3 here\n",
        "movie_collection.pop(3)\n",
        "print(\"After removing movie 4\", movie_collection)\n",
        "\n",
        "# Count how many movies are in the collection using the count() method\n",
        "num_movies =len(movie_collection)\n",
        "print(\"Number of movies:\", num_movies)\n",
        "\n",
        "# Reverse the order of the list using the reverse() method\n",
        "\n",
        "print(\"Reversed movie collection:\", movie_collection)\n"
      ],
      "metadata": {
        "colab": {
          "base_uri": "https://localhost:8080/"
        },
        "id": "y8vleFvFSd5E",
        "outputId": "c04c612b-3e11-4e8b-8fe4-5065c4aa3fc4"
      },
      "execution_count": 3,
      "outputs": [
        {
          "output_type": "stream",
          "name": "stdout",
          "text": [
            "My Movie Collection: ['Inception', 'The Matrix', 'Interstellar', 'The Dark Knight', 'Parasite']\n",
            "After removing movie 4 ['Inception', 'The Matrix', 'Interstellar', 'Parasite']\n",
            "Number of movies: 4\n",
            "Reversed movie collection: ['Inception', 'The Matrix', 'Interstellar', 'Parasite']\n"
          ]
        }
      ]
    },
    {
      "cell_type": "markdown",
      "source": [
        "#👩‍🏫 A teacher has stored the names of his students in a tuple as follows:\n",
        "('Adam','Alice','Ben','Bilal','Bharath')\n",
        "\n",
        "👨‍🎓 Their role numbers are defined as their index number + 1.\n",
        "\n",
        "🖥️ Write a program which would take the name of the student as input and return their role number."
      ],
      "metadata": {
        "id": "_AT2FcesSkOy"
      }
    },
    {
      "cell_type": "code",
      "source": [
        "student_tupple=('Adam','Alice','Ben','Bilal','Bharath')"
      ],
      "metadata": {
        "id": "cLzUGfDITxTR"
      },
      "execution_count": 4,
      "outputs": []
    },
    {
      "cell_type": "code",
      "source": [
        "# Take input from user and display role number as index of the input + 1\n",
        "student=input(\"Input the student name to get roll number - \")\n",
        "print(student,\"'s roll number is: \", student_tupple[int(student)+1]) # Replace x with appropriate value"
      ],
      "metadata": {
        "colab": {
          "base_uri": "https://localhost:8080/"
        },
        "id": "tw79FL2jT0HU",
        "outputId": "68101b98-f442-43e4-980c-8f8956823e82"
      },
      "execution_count": 5,
      "outputs": [
        {
          "output_type": "stream",
          "name": "stdout",
          "text": [
            "Input the student name to get roll number - 2\n",
            "2 's roll number is:  Bilal\n"
          ]
        }
      ]
    }
  ]
}